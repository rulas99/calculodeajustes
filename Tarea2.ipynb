{
 "cells": [
  {
   "cell_type": "markdown",
   "metadata": {},
   "source": [
    "## Ajuste por ecuaciones de condición para una Red de Nivelación\n",
    "#### De la Rosa Peredo Carlos Raúl"
   ]
  },
  {
   "cell_type": "code",
   "execution_count": 2,
   "metadata": {},
   "outputs": [],
   "source": [
    "import numpy as np\n",
    "import pandas as pd"
   ]
  },
  {
   "cell_type": "markdown",
   "metadata": {},
   "source": [
    "<img src='circ2.png' width=\"1000\" height=\"1000\">"
   ]
  },
  {
   "cell_type": "markdown",
   "metadata": {},
   "source": [
    "### Matriz planteada y su solución"
   ]
  },
  {
   "cell_type": "code",
   "execution_count": 3,
   "metadata": {},
   "outputs": [
    {
     "data": {
      "text/plain": [
       "array([  9.957,  19.999,  30.044, -15.019, -20.039, -24.942,  12.985,\n",
       "         3.028, -16.971, -31.996, -11.957, -15.025])"
      ]
     },
     "execution_count": 3,
     "metadata": {},
     "output_type": "execute_result"
    }
   ],
   "source": [
    "#B=np.array([[1,1,0,0,1,0,-1,0,1,-1,1,0],[0,1,1,1,1,0,0,-1,0,0,1,0],\n",
    "#           [0,-1,-1,-1,0,1,1,1,0,-1,-1,0],[1,0,1,1,-1,0,-1,1,0,1,-1,1],[0,1,0,0,-1,-1,-1,-1,1,1,0,0],\n",
    "#           [0,1,0,0,0,1,1,-1,0,1,-1,-1],[1,0,0,0,1,1,0,1,-1,0,0,-1]])\n",
    "\n",
    "B=np.array([[1,1,1,1,1,1,0,0,0,0,0,0],[0,0,1,0,0,0,1,0,-1,0,0,0],\n",
    "           [0,0,1,0,-1,-1,0,0,0,0,0,1],[-1,0,0,1,0,0,0,-1,0,1,0,0],[0,0,0,0,1,0,0,0,0,-1,1,0],\n",
    "           [1,1,0,0,0,0,-1,0,0,1,0,-1],[0,0,0,-1,0,0,1,0,0,-1,0,0]])\n",
    "\n",
    "#C=np.array([0,0,0,0,0,0,0])\n",
    "C=np.array([0,60,60,-60,0,0,60])\n",
    "\n",
    "L=np.array([10,20,30.04,-15,-20.03,-24.96,12.9,3.07,-16.95,-32,-11.93,-15.01])\n",
    "\n",
    "W=C-np.dot(B,L)\n",
    "\n",
    "sol=np.dot(np.dot(B.transpose(),np.linalg.inv(np.dot(B,B.transpose()))),W)\n",
    "\n",
    "Laj=np.round(L+sol,3)\n",
    "Laj\n"
   ]
  },
  {
   "cell_type": "code",
   "execution_count": 6,
   "metadata": {},
   "outputs": [
    {
     "data": {
      "text/plain": [
       "array([100.   , 109.957, 129.956, 112.985, 124.942, 144.981, 160.   ])"
      ]
     },
     "execution_count": 6,
     "metadata": {},
     "output_type": "execute_result"
    }
   ],
   "source": [
    "est=['BN1','V','P','R','M','T','BN2']\n",
    "cot=np.array([100,100+res['Desnivel Ajustado'][0],160-res['Desnivel Ajustado'][2],100+res['Desnivel Ajustado'][6],\n",
    "     100-res['Desnivel Ajustado'][5],160+res['Desnivel Ajustado'][3],160])\n",
    "cot=np.round(cot,3)\n",
    "cot"
   ]
  },
  {
   "cell_type": "markdown",
   "metadata": {},
   "source": [
    "### Resultados"
   ]
  },
  {
   "cell_type": "markdown",
   "metadata": {},
   "source": [
    "#### Desniveles"
   ]
  },
  {
   "cell_type": "code",
   "execution_count": 5,
   "metadata": {},
   "outputs": [
    {
     "data": {
      "text/html": [
       "<div>\n",
       "<style scoped>\n",
       "    .dataframe tbody tr th:only-of-type {\n",
       "        vertical-align: middle;\n",
       "    }\n",
       "\n",
       "    .dataframe tbody tr th {\n",
       "        vertical-align: top;\n",
       "    }\n",
       "\n",
       "    .dataframe thead th {\n",
       "        text-align: right;\n",
       "    }\n",
       "</style>\n",
       "<table border=\"1\" class=\"dataframe\">\n",
       "  <thead>\n",
       "    <tr style=\"text-align: right;\">\n",
       "      <th></th>\n",
       "      <th>Circuito</th>\n",
       "      <th>Desnivel Medido</th>\n",
       "      <th>Residuos</th>\n",
       "      <th>Desnivel Ajustado</th>\n",
       "    </tr>\n",
       "  </thead>\n",
       "  <tbody>\n",
       "    <tr>\n",
       "      <th>0</th>\n",
       "      <td>1</td>\n",
       "      <td>10.00</td>\n",
       "      <td>-0.043</td>\n",
       "      <td>9.957</td>\n",
       "    </tr>\n",
       "    <tr>\n",
       "      <th>1</th>\n",
       "      <td>2</td>\n",
       "      <td>20.00</td>\n",
       "      <td>-0.001</td>\n",
       "      <td>19.999</td>\n",
       "    </tr>\n",
       "    <tr>\n",
       "      <th>2</th>\n",
       "      <td>3</td>\n",
       "      <td>30.04</td>\n",
       "      <td>0.004</td>\n",
       "      <td>30.044</td>\n",
       "    </tr>\n",
       "    <tr>\n",
       "      <th>3</th>\n",
       "      <td>4</td>\n",
       "      <td>-15.00</td>\n",
       "      <td>-0.019</td>\n",
       "      <td>-15.019</td>\n",
       "    </tr>\n",
       "    <tr>\n",
       "      <th>4</th>\n",
       "      <td>5</td>\n",
       "      <td>-20.03</td>\n",
       "      <td>-0.009</td>\n",
       "      <td>-20.039</td>\n",
       "    </tr>\n",
       "    <tr>\n",
       "      <th>5</th>\n",
       "      <td>6</td>\n",
       "      <td>-24.96</td>\n",
       "      <td>0.018</td>\n",
       "      <td>-24.942</td>\n",
       "    </tr>\n",
       "    <tr>\n",
       "      <th>6</th>\n",
       "      <td>7</td>\n",
       "      <td>12.90</td>\n",
       "      <td>0.085</td>\n",
       "      <td>12.985</td>\n",
       "    </tr>\n",
       "    <tr>\n",
       "      <th>7</th>\n",
       "      <td>8</td>\n",
       "      <td>3.07</td>\n",
       "      <td>-0.042</td>\n",
       "      <td>3.028</td>\n",
       "    </tr>\n",
       "    <tr>\n",
       "      <th>8</th>\n",
       "      <td>9</td>\n",
       "      <td>-16.95</td>\n",
       "      <td>-0.021</td>\n",
       "      <td>-16.971</td>\n",
       "    </tr>\n",
       "    <tr>\n",
       "      <th>9</th>\n",
       "      <td>10</td>\n",
       "      <td>-32.00</td>\n",
       "      <td>0.004</td>\n",
       "      <td>-31.996</td>\n",
       "    </tr>\n",
       "    <tr>\n",
       "      <th>10</th>\n",
       "      <td>11</td>\n",
       "      <td>-11.93</td>\n",
       "      <td>-0.027</td>\n",
       "      <td>-11.957</td>\n",
       "    </tr>\n",
       "    <tr>\n",
       "      <th>11</th>\n",
       "      <td>12</td>\n",
       "      <td>-15.01</td>\n",
       "      <td>-0.015</td>\n",
       "      <td>-15.025</td>\n",
       "    </tr>\n",
       "  </tbody>\n",
       "</table>\n",
       "</div>"
      ],
      "text/plain": [
       "    Circuito  Desnivel Medido  Residuos  Desnivel Ajustado\n",
       "0          1            10.00    -0.043              9.957\n",
       "1          2            20.00    -0.001             19.999\n",
       "2          3            30.04     0.004             30.044\n",
       "3          4           -15.00    -0.019            -15.019\n",
       "4          5           -20.03    -0.009            -20.039\n",
       "5          6           -24.96     0.018            -24.942\n",
       "6          7            12.90     0.085             12.985\n",
       "7          8             3.07    -0.042              3.028\n",
       "8          9           -16.95    -0.021            -16.971\n",
       "9         10           -32.00     0.004            -31.996\n",
       "10        11           -11.93    -0.027            -11.957\n",
       "11        12           -15.01    -0.015            -15.025"
      ]
     },
     "execution_count": 5,
     "metadata": {},
     "output_type": "execute_result"
    }
   ],
   "source": [
    "res=pd.DataFrame({\"Circuito\":np.arange(1,13),\"Desnivel Medido\":L,\"Residuos\":np.round(sol,3),\"Desnivel Ajustado\":Laj})\n",
    "res"
   ]
  },
  {
   "cell_type": "markdown",
   "metadata": {},
   "source": [
    "#### Elevaciones"
   ]
  },
  {
   "cell_type": "code",
   "execution_count": 7,
   "metadata": {},
   "outputs": [
    {
     "data": {
      "text/html": [
       "<div>\n",
       "<style scoped>\n",
       "    .dataframe tbody tr th:only-of-type {\n",
       "        vertical-align: middle;\n",
       "    }\n",
       "\n",
       "    .dataframe tbody tr th {\n",
       "        vertical-align: top;\n",
       "    }\n",
       "\n",
       "    .dataframe thead th {\n",
       "        text-align: right;\n",
       "    }\n",
       "</style>\n",
       "<table border=\"1\" class=\"dataframe\">\n",
       "  <thead>\n",
       "    <tr style=\"text-align: right;\">\n",
       "      <th></th>\n",
       "      <th>Estacion</th>\n",
       "      <th>Elevacion</th>\n",
       "    </tr>\n",
       "  </thead>\n",
       "  <tbody>\n",
       "    <tr>\n",
       "      <th>0</th>\n",
       "      <td>BN1</td>\n",
       "      <td>100.000</td>\n",
       "    </tr>\n",
       "    <tr>\n",
       "      <th>1</th>\n",
       "      <td>V</td>\n",
       "      <td>109.957</td>\n",
       "    </tr>\n",
       "    <tr>\n",
       "      <th>2</th>\n",
       "      <td>P</td>\n",
       "      <td>129.956</td>\n",
       "    </tr>\n",
       "    <tr>\n",
       "      <th>3</th>\n",
       "      <td>R</td>\n",
       "      <td>112.985</td>\n",
       "    </tr>\n",
       "    <tr>\n",
       "      <th>4</th>\n",
       "      <td>M</td>\n",
       "      <td>124.942</td>\n",
       "    </tr>\n",
       "    <tr>\n",
       "      <th>5</th>\n",
       "      <td>T</td>\n",
       "      <td>144.981</td>\n",
       "    </tr>\n",
       "    <tr>\n",
       "      <th>6</th>\n",
       "      <td>BN2</td>\n",
       "      <td>160.000</td>\n",
       "    </tr>\n",
       "  </tbody>\n",
       "</table>\n",
       "</div>"
      ],
      "text/plain": [
       "  Estacion  Elevacion\n",
       "0      BN1    100.000\n",
       "1        V    109.957\n",
       "2        P    129.956\n",
       "3        R    112.985\n",
       "4        M    124.942\n",
       "5        T    144.981\n",
       "6      BN2    160.000"
      ]
     },
     "execution_count": 7,
     "metadata": {},
     "output_type": "execute_result"
    }
   ],
   "source": [
    "res2=pd.DataFrame({\"Estacion\":est,\"Elevacion\":cot})\n",
    "res2"
   ]
  }
 ],
 "metadata": {
  "kernelspec": {
   "display_name": "Python 3",
   "language": "python",
   "name": "python3"
  },
  "language_info": {
   "codemirror_mode": {
    "name": "ipython",
    "version": 3
   },
   "file_extension": ".py",
   "mimetype": "text/x-python",
   "name": "python",
   "nbconvert_exporter": "python",
   "pygments_lexer": "ipython3",
   "version": "3.7.6"
  }
 },
 "nbformat": 4,
 "nbformat_minor": 4
}
